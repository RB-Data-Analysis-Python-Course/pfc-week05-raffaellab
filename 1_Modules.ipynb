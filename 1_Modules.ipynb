{
 "cells": [
  {
   "cell_type": "markdown",
   "metadata": {},
   "source": [
    "<img src=\"images/logo.jpg\" style=\"display: block; margin-left: auto; margin-right: auto;\" alt=\"לוגו של מיזם לימוד הפייתון. נחש מצויר בצבעי צהוב וכחול, הנע בין האותיות של שם הקורס: לומדים פייתון. הסלוגן המופיע מעל לשם הקורס הוא מיזם חינמי ללימוד תכנות בעברית.\">"
   ]
  },
  {
   "cell_type": "markdown",
   "metadata": {},
   "source": [
    "# <span style=\"text-align: right; direction: rtl; float: right;\">מודולים</span>"
   ]
  },
  {
   "cell_type": "markdown",
   "metadata": {},
   "source": [
    "## <span style=\"text-align: right; direction: rtl; float: right; clear: both;\">הקדמה</span>"
   ]
  },
  {
   "cell_type": "markdown",
   "metadata": {},
   "source": [
    "<p style=\"text-align: right; direction: rtl; float: right; clear: both;\">\n",
    "    מתכנתים העוסקים בקביעות במלאכתם, יזכו לעיתים תכופות להיתקל באתגרים בתחומים שונים.<br>\n",
    "</p>"
   ]
  },
  {
   "cell_type": "markdown",
   "metadata": {},
   "source": [
    "<p style=\"text-align: right; direction: rtl; float: right; clear: both;\">\n",
    "    דוגמה טובה לאתגר נפוץ שכזה היא יצירת מידע אקראי:\n",
    "</p>"
   ]
  },
  {
   "cell_type": "markdown",
   "metadata": {},
   "source": []
  },
  {
   "cell_type": "markdown",
   "metadata": {},
   "source": [
    "<ul style=\"text-align: right; direction: rtl; float: right; clear: both;\">\n",
    "    <li>מתכנת שיוצר משחק קלפים יצטרך לכתוב קוד לשליפת קלף אקראי מחפיסת הקלפים.</li>\n",
    "    <li>מתכנת שמתקשה להחליט אם הוא רוצה להיות בפריז, ברומא או בקוטב הצפוני, יכתוב תוכנית שתבחר עבורו את היעד באקראיות.</li>\n",
    "    <li>מתכנת שרוצה לבנות סימולציות למצבים מהחיים האמיתיים, יצטרך פעמים רבות להשתמש במידע אקראי.</li>\n",
    "</ul>"
   ]
  },
  {
   "cell_type": "markdown",
   "metadata": {},
   "source": [
    "<p style=\"text-align: right; direction: rtl; float: right; clear: both;\">\n",
    "    דוגמה טובה נוספת היא עבודה עם תאריכים:\n",
    "</p>"
   ]
  },
  {
   "cell_type": "markdown",
   "metadata": {},
   "source": [
    "<ul style=\"text-align: right; direction: rtl; float: right; clear: both;\">\n",
    "    <li>מתכנת שרוצה לדעת בעוד כמה זמן מגיע תאריך מסוים (יום הולדת, לדוגמה).</li>\n",
    "    <li>מתכנת שרוצה לבדוק מה יהיה התאריך בעוד 100,000,000 שניות.</li>\n",
    "    <li>מתכנת שקיבל מסמך עם תאריכי הלידה של כל אוכלוסיית ישראל, ורוצה לדעת מהו החודש שבו נולדים הכי הרבה תינוקות בישראל.</li>\n",
    "</ul>"
   ]
  },
  {
   "cell_type": "markdown",
   "metadata": {},
   "source": [
    "<p style=\"text-align: right; direction: rtl; float: right; clear: both;\">\n",
    "    פתירת האתגרים הללו עשויה להיות משימה מורכבת, ולטמון בחובה בעיות ומקרי קצה רבים.<br>\n",
    "    תארו לעצמכם כמה זמן היה נחסך לו היה מישהו פותר את הבעיות הנפוצות הללו עבור כל המתכנתים!<br>\n",
    "</p>"
   ]
  },
  {
   "cell_type": "markdown",
   "metadata": {},
   "source": [
    "## <span style=\"text-align: right; direction: rtl; float: right; clear: both;\">הגדרה</span>"
   ]
  },
  {
   "cell_type": "markdown",
   "metadata": {},
   "source": [
    "<p style=\"text-align: right; direction: rtl; float: right; clear: both;\">\n",
    "    כרעיון, <dfn>מודול</dfn> הוא פיסת תוכנה עצמאית המשרתת מטרה מוגדרת.<br>\n",
    "    המטרה יכולה להיות, לדוגמה, טיפול בתאריכים, יצירת נתונים אקראיים או תקשורת עם אתרי אינטרנט.<br>\n",
    "    בפייתון, מודול הוא קובץ המאגד הגדרות ופקודות, שיחדיו יוצרות אוסף כלים בתחום מסוים.<br>\n",
    "</p>"
   ]
  },
  {
   "cell_type": "markdown",
   "metadata": {},
   "source": [
    "## <span style=\"text-align: right; direction: rtl; float: right; clear: both;\">שימוש</span>"
   ]
  },
  {
   "cell_type": "markdown",
   "metadata": {},
   "source": [
    "### <span style=\"text-align: right; direction: rtl; float: right; clear: both;\">יבוא<span>"
   ]
  },
  {
   "cell_type": "markdown",
   "metadata": {},
   "source": [
    "<p style=\"text-align: right; direction: rtl; float: right; clear: both;\">\n",
    "    ניקח כדוגמה את המודול <code>random</code>, שמטרתו לעזור לנו ליצור מידע אקראי.<br>\n",
    "    לפני שנוכל להשתמש ביכולותיו של המודול, נצטרך לבקש מפייתון לטעון אותו בעזרת מילת המפתח <code>import</code>:\n",
    "</p>"
   ]
  },
  {
   "cell_type": "code",
   "execution_count": 1,
   "metadata": {},
   "outputs": [],
   "source": [
    "import random"
   ]
  },
  {
   "cell_type": "markdown",
   "metadata": {},
   "source": [
    "<p style=\"text-align: right; direction: rtl; float: right; clear: both;\">\n",
    "    פעולה זו טוענת את המודול ומאפשרת לנו להשתמש בו בהמשך הקוד. נהוג להגיד ש<dfn>ייבאנו</dfn> את המודול <code>random</code>.<br>\n",
    "    עכשיו, כשהמודול יובא, אפשר להשתמש בו בקוד התוכנית שלנו באופן שיענה על הצורך ליצירת דברים אקראיים.<br>\n",
    "    כדי להבין איך להשתמש במודול ומהן יכולותיו, נוכל לקרוא מידע נוסף על אודותיו במגוון דרכים:\n",
    "</p>"
   ]
  },
  {
   "cell_type": "markdown",
   "metadata": {},
   "source": [
    "<ol style=\"text-align: right; direction: rtl; float: right; clear: both;\">\n",
    "    <li>בעזרת התיעוד ב<a href=\"https://docs.python.org/3/library/random.html\">אתר פייתון</a>, שאליו אפשר להגיע אם כותבים <q>python documentation random</q> במנועי חיפוש.</li>\n",
    "    <li>בעזרת הפונקציה <var>dir</var> – נוכל לכתוב <code dir=\"ltr\">dir(random)</code>.</li>\n",
    "    <li>בג'ופיטר, אם נכתוב בתא קוד <code dir=\"ltr\">random.</code> ונלחץ <kbd dir=\"ltr\">Tab ↹</kbd>.</li>\n",
    "</ol>"
   ]
  },
  {
   "cell_type": "markdown",
   "metadata": {},
   "source": [
    "### <span style=\"text-align: right; direction: rtl; float: right; clear: both;\">דוגמאות לשימוש<span>"
   ]
  },
  {
   "cell_type": "markdown",
   "metadata": {},
   "source": [
    "<p style=\"text-align: right; direction: rtl; float: right; clear: both;\">\n",
    "    במשחק הפוקימון \"פוקימון אדום\" אפשר לבחור בתור הפוקימון ההתחלתי את בלבזאור, את סקווירטל או את צ'רמנדר.<br>\n",
    "    על הפוקימון הטוב ביותר לבחירה <a href=\"https://www.google.com/search?q=starter+pokemon+red%2Fblue\">ניטשים ויכוחים רבים</a> עוד מאז שחרורו של המשחק ב־1996.<br>\n",
    "    כדי לא להיקלע לעין הסערה, נבנה תוכנה שתבחר את הפוקימון עבורנו באופן אקראי.\n",
    "</p>"
   ]
  },
  {
   "cell_type": "markdown",
   "metadata": {},
   "source": [
    "<p style=\"text-align: right; direction: rtl; float: right; clear: both;\">\n",
    "    <a href=\"https://docs.python.org/3/library/random.html\">התיעוד</a> של המודול <code>random</code>, כולל פונקציה בשם <var>choice</var>, שבאמצעותה נוכל לבחור איבר אקראי מתוך iterable.<br>\n",
    "    השימוש בתיעוד מומלץ במיוחד בהקשרי מודולים, שכן ההסברים שם בהירים, ופעמים רבות מובאות שם דוגמאות לשימוש בפונקציות של המודול.<br>\n",
    "    נייבא את <code>random</code> ואז נשתמש ב־<var>choice</var>:\n",
    "</p>"
   ]
  },
  {
   "cell_type": "code",
   "execution_count": 3,
   "metadata": {},
   "outputs": [
    {
     "name": "stdout",
     "output_type": "stream",
     "text": [
      "Bulbasaur\n"
     ]
    }
   ],
   "source": [
    "import random\n",
    "\n",
    "pokemons = ['Bulbasaur', 'Squirtle', 'Charmander']\n",
    "starter_pokemon = random.choice(pokemons)\n",
    "print(starter_pokemon)"
   ]
  },
  {
   "cell_type": "markdown",
   "metadata": {},
   "source": [
    "<div class=\"align-center\" style=\"display: flex; text-align: right; direction: rtl;\">\n",
    "    <div style=\"display: flex; width: 10%; float: right; \">\n",
    "        <img src=\"images/warning.png\" style=\"height: 50px !important;\" alt=\"אזהרה!\"> \n",
    "    </div>\n",
    "    <div style=\"width: 90%\">\n",
    "        <p style=\"text-align: right; direction: rtl;\">\n",
    "            לא היינו יכולים להשתמש ב־<code>random.choice</code> לולא היינו מייבאים את <code>random</code>.<br>\n",
    "            מרגע שייבאנו את המודול – נוכל להשתמש בו לאורך כל הקוד.\n",
    "        </p>\n",
    "    </div>\n",
    "</div>"
   ]
  },
  {
   "cell_type": "markdown",
   "metadata": {},
   "source": [
    "<div class=\"align-center\" style=\"display: flex; text-align: right; direction: rtl; clear: both;\">\n",
    "    <div style=\"display: flex; width: 10%; float: right; clear: both;\">\n",
    "        <img src=\"images/exercise.svg\" style=\"height: 50px !important;\" alt=\"תרגול\"> \n",
    "    </div>\n",
    "    <div style=\"width: 70%\">\n",
    "        <p style=\"text-align: right; direction: rtl; float: right; clear: both;\">\n",
    "            השתמשו בפונקציה הנמצאת במודול <code>random</code> כדי לדמות הטלת קובייה בעלת 20 פאות (<a href=\"https://en.wikipedia.org/wiki/D20_System\">D20</a>).<br>\n",
    "            הגרילו מספר בין 1 ל־20, הפעם בעזרת פונקציה שהיא לא <code>choice</code>.<br>\n",
    "            השתמשו במקורות המידע שצוינו כדי למצוא את הפונקציה המתאימה למשימה.\n",
    "        </p>\n",
    "    </div>\n",
    "    <div style=\"display: flex; width: 20%; border-right: 0.1rem solid #A5A5A5; padding: 1rem 2rem;\">\n",
    "        <p style=\"text-align: center; direction: rtl; justify-content: center; align-items: center; clear: both;\">\n",
    "            <strong>חשוב!</strong><br>\n",
    "            פתרו לפני שתמשיכו!\n",
    "        </p>\n",
    "    </div>\n",
    "</div>"
   ]
  },
  {
   "cell_type": "code",
   "execution_count": 2,
   "metadata": {},
   "outputs": [
    {
     "name": "stdout",
     "output_type": "stream",
     "text": [
      "20\n"
     ]
    }
   ],
   "source": [
    "import random\n",
    "dace = []\n",
    "for i in range (1, 21):\n",
    "    dace.append(i)\n",
    "    \n",
    "chosen = random.choice(dace)\n",
    "print(chosen)"
   ]
  },
  {
   "cell_type": "markdown",
   "metadata": {},
   "source": [
    "### <span style=\"text-align: right; direction: rtl; float: right; clear: both;\">יתרונות<span>"
   ]
  },
  {
   "cell_type": "markdown",
   "metadata": {},
   "source": [
    "<p style=\"text-align: right; direction: rtl; float: right; clear: both;\">\n",
    "    אלו, בין היתר, היתרונות של שימוש במודולים הקיימים בפייתון:\n",
    "</p>"
   ]
  },
  {
   "cell_type": "markdown",
   "metadata": {},
   "source": [
    "<ol style=\"text-align: right; direction: rtl; float: right; clear: both;\">\n",
    "    <li>\n",
    "        <strong>פישוט</strong>: מודול לרוב יפתור לנו בעיה אחת, קטנה ומוגדרת היטב.\n",
    "    </li>\n",
    "    <li>\n",
    "        <strong>הפרדה</strong>: המודול מופרד מהקוד שלנו, ישאיר את הקוד שלנו נקי ויעזור לנו להתמקד בבעיה שאנחנו מעוניינים לפתור. \n",
    "    </li>\n",
    "    <li>\n",
    "        <strong>מִחזוּר</strong>: מודול מאפשר לנו להשתמש בקוד שכתבנו בפרויקטים רבים, מבלי לכתוב את הקוד מחדש בכל פרויקט. \n",
    "    </li>\n",
    "    <li>\n",
    "        <strong>רמת גימור</strong>: המודולים הרשמיים של פייתון מתוחזקים ברמה גבוהה, יש בהם מעט באגים והם מכסים מקרי קצה רבים. \n",
    "    </li>\n",
    "</ol>"
   ]
  },
  {
   "cell_type": "markdown",
   "metadata": {},
   "source": [
    "<p style=\"text-align: right; direction: rtl; float: right; clear: both;\">\n",
    "    רוב התוכנות שבהן אתם משתמשים נעזרות במספר לא מועט של מודולים.<br>\n",
    "    כרגע נתמקד בשימוש במודולים שמגיעים עם פייתון, אך בעתיד נשתמש במודולים שיצרו מתכנתים אחרים, ואף ניצור מודולים בעצמנו.\n",
    "</p>"
   ]
  },
  {
   "cell_type": "markdown",
   "metadata": {},
   "source": [
    "### <span style=\"text-align: right; direction: rtl; float: right; clear: both;\">תרגיל ביניים: יצירת סיסמה<span>"
   ]
  },
  {
   "cell_type": "markdown",
   "metadata": {},
   "source": [
    "<p style=\"text-align: right; direction: rtl; float: right; clear: both;\">\n",
    "    איש דג החרב מגדיר \"מחולל סיסמאות חזקות\" כך:\n",
    "</p>"
   ]
  },
  {
   "cell_type": "markdown",
   "metadata": {},
   "source": [
    "<ol style=\"text-align: right; direction: rtl; float: right; clear: both;\">\n",
    "    <li>בקריאה לפונקציית המחולל, המחולל יחזיר סיסמה חזקה.</li>\n",
    "    <li>אורכה של סיסמה חזקה הוא בין 12 ל־20 תווים.</li>\n",
    "    <li>לפחות בחלק מהסיסמאות שמייצר המחולל יהיו גם אותיות גדולות, גם אותיות קטנות וגם מספרים.</li>\n",
    "</ol>"
   ]
  },
  {
   "cell_type": "code",
   "execution_count": 34,
   "metadata": {},
   "outputs": [
    {
     "name": "stdout",
     "output_type": "stream",
     "text": [
      "your password is: cmMBh2336M8Va24\n"
     ]
    }
   ],
   "source": [
    "def list_of_digits():\n",
    "    import string\n",
    "    numbers = [i for i in range(1,10)]\n",
    "    numbers =numbers*3\n",
    "    letters = list(string.ascii_lowercase)+list(string.ascii_uppercase)\n",
    "    digits = numbers+letters\n",
    "    return(digits)\n",
    "    \n",
    "    \n",
    "def password_generator(digits):\n",
    "    import random\n",
    "    password_generated=''\n",
    "    for i in range(15):\n",
    "        a=str(random.choice(digits))\n",
    "        password_generated=a+password_generated\n",
    "    return(password_generated)\n",
    "\n",
    "digits=list_of_digits()\n",
    "password_generated=password_generator(digits)\n",
    "print(f\"your password is: {password_generated}\")\n"
   ]
  },
  {
   "cell_type": "markdown",
   "metadata": {},
   "source": [
    "<p style=\"text-align: right; direction: rtl; float: right; clear: both;\">\n",
    "    כתבו מחולל סיסמאות חזקות.\n",
    "</p>"
   ]
  },
  {
   "cell_type": "markdown",
   "metadata": {},
   "source": [
    "<div class=\"align-center\" style=\"display: flex; text-align: right; direction: rtl;\">\n",
    "    <div style=\"display: flex; width: 10%; float: right; \">\n",
    "        <img src=\"images/warning.png\" style=\"height: 50px !important;\" alt=\"אזהרה!\"> \n",
    "    </div>\n",
    "    <div style=\"width: 90%\">\n",
    "        <p style=\"text-align: right; direction: rtl;\">\n",
    "            על אף שזהו תרגיל נחמד, לעולם לא נשתמש ב־<code>random</code> לצורכי אבטחת מידע.<br>\n",
    "            להרחבה, קראו על יתרונותיו של המודול <code><a href=\"https://docs.python.org/3/library/secrets.html#module-secrets\">secrets</a></code>.\n",
    "        </p>\n",
    "    </div>\n",
    "</div>"
   ]
  },
  {
   "cell_type": "markdown",
   "metadata": {},
   "source": [
    "### <span style=\"text-align: right; direction: rtl; float: right; clear: both;\">יבוא מתוך מודול<span>"
   ]
  },
  {
   "cell_type": "markdown",
   "metadata": {},
   "source": [
    "<p style=\"text-align: right; direction: rtl; float: right; clear: both;\">\n",
    "    עצרת של המספר $n$ (המסומנת כ־$n!$) היא מכפלת כל המספרים השלמים החיוביים עד $n$, כולל.<br>\n",
    "    נחשב את העצרת של 6 באמצעות המודול <code>math</code>:\n",
    "</p>"
   ]
  },
  {
   "cell_type": "code",
   "execution_count": 1,
   "metadata": {},
   "outputs": [
    {
     "name": "stdout",
     "output_type": "stream",
     "text": [
      "720\n"
     ]
    }
   ],
   "source": [
    "import math\n",
    "print(math.factorial(6))  # 1 * 2 * 3 * 4 * 5 * 6"
   ]
  },
  {
   "cell_type": "markdown",
   "metadata": {},
   "source": [
    "<p style=\"text-align: right; direction: rtl; float: right; clear: both;\">\n",
    "    במקרה שהצגנו, אין לנו באמת צורך בכל הפונקציות הנמצאות במודול <code>math</code>, אלא רק בפונקציה <var>factorial</var>.<br>\n",
    "    תעלול נחמד שאפשר לעשות הוא לייבא רק את factorial באמצעות מילת המפתח <code>from</code>:<br>\n",
    "</p>"
   ]
  },
  {
   "cell_type": "code",
   "execution_count": null,
   "metadata": {},
   "outputs": [],
   "source": [
    "from math import factorial\n",
    "print(factorial(6))"
   ]
  },
  {
   "cell_type": "markdown",
   "metadata": {},
   "source": [
    "<p style=\"text-align: right; direction: rtl; float: right; clear: both;\">\n",
    "    כדאי לשים לב שלאחר שייבאנו בעזרת <code>from</code> נשתמש ישירות ב־factorial, מבלי להזכיר את השייכות שלה למודול <code>math</code>.<br>\n",
    "    אפשר גם לייבא יותר משם אחד מאותו מודול, במכה אחת:\n",
    "</p>"
   ]
  },
  {
   "cell_type": "code",
   "execution_count": 2,
   "metadata": {},
   "outputs": [
    {
     "name": "stdout",
     "output_type": "stream",
     "text": [
      "-1.0\n"
     ]
    }
   ],
   "source": [
    "from math import cos, pi\n",
    "print(cos(pi))"
   ]
  },
  {
   "cell_type": "markdown",
   "metadata": {},
   "source": [
    "<p style=\"text-align: right; direction: rtl; float: right; clear: both;\">\n",
    "    באופן כללי, העדיפו לייבא את המודול כולו ולא חלקים מתוכו.<br>\n",
    "    זה יעזור לכם להימנע מיצירת מקרים מבלבלים כמו זה:<br>\n",
    "</p>"
   ]
  },
  {
   "cell_type": "code",
   "execution_count": 3,
   "metadata": {},
   "outputs": [
    {
     "name": "stdout",
     "output_type": "stream",
     "text": [
      "2.718281828459045\n"
     ]
    }
   ],
   "source": [
    "from math import e\n",
    "\n",
    "# (דמיינו הרבה קוד כאן)\n",
    "print(e)  # ?לרוב הוא שם משתנה שתוכנו שגיאה, האם זה המקרה גם פה e ?מאיפה זה הגיע"
   ]
  },
  {
   "cell_type": "markdown",
   "metadata": {},
   "source": [
    "<p style=\"text-align: right; direction: rtl; float: right; clear: both;\">\n",
    "    אם ממשיכים בכיוון, פייתון מאפשרת לנו לעשות את הדבר המזעזע הבא:\n",
    "</p>"
   ]
  },
  {
   "cell_type": "code",
   "execution_count": 4,
   "metadata": {},
   "outputs": [],
   "source": [
    "from math import *"
   ]
  },
  {
   "cell_type": "markdown",
   "metadata": {},
   "source": [
    "<p style=\"text-align: right; direction: rtl; float: right; clear: both;\">\n",
    "    יבוא בעזרת כוכבית יגרום לכך שכל מה שמוגדר במודול \"יישפך\" לתוך התוכנית שלנו.<br>\n",
    "    זה יאפשר לנו להשתמש בכל התוכן של <code>math</code> בלי להזכיר את שם המודול:\n",
    "</p>"
   ]
  },
  {
   "cell_type": "code",
   "execution_count": 5,
   "metadata": {},
   "outputs": [
    {
     "name": "stdout",
     "output_type": "stream",
     "text": [
      "floor(5.5) --> 5\n",
      "ceil(5.5)  --> 6\n",
      "pow(9, 2)  --> 81.0\n",
      "e          --> 2.718281828459045\n"
     ]
    }
   ],
   "source": [
    "print(f\"floor(5.5) --> {floor(5.5)}\")\n",
    "print(f\"ceil(5.5)  --> {ceil(5.5)}\")\n",
    "print(f\"pow(9, 2)  --> {pow(9, 2)}\")\n",
    "print(f\"e          --> {e}\")"
   ]
  },
  {
   "cell_type": "markdown",
   "metadata": {},
   "source": [
    "<p style=\"text-align: right; direction: rtl; float: right; clear: both;\">\n",
    "    פרקטיקה זו נחשבת מאוד לא מנומסת, ואתם מתבקשים לא להשתמש בה, אלא אם כן אלו ההוראות הכתובות בתיעוד של המודול.<br>\n",
    "    ישנן לא מעט סיבות הגיוניות מאחורי איסור זה:\n",
    "</p>"
   ]
  },
  {
   "cell_type": "markdown",
   "metadata": {},
   "source": [
    "<ul style=\"text-align: right; direction: rtl; float: right; clear: both;\">\n",
    "    <li>זה מקשה על מתכנת שקורא את הקוד להבין איפה הוגדרו <var>ceil</var>, <var>floor</var>, <var>e</var> ו־<var>pow</var>.</li>\n",
    "    <li>אנחנו \"מזהמים\" את הסביבה שלנו בהגדרות רבות שלעולם לא נשתמש בהן.</li>\n",
    "    <li>חלק מהכלים שבהם תשתמשו בעתיד לא ידעו לזהות את השמות הללו, כיוון שלא ייבאתם אותם מפורשות.</li>\n",
    "</ul>"
   ]
  },
  {
   "cell_type": "markdown",
   "metadata": {},
   "source": [
    "### <span style=\"text-align: right; direction: rtl; float: right; clear: both;\">שינוי שם ביבוא<span>"
   ]
  },
  {
   "cell_type": "markdown",
   "metadata": {},
   "source": [
    "<p style=\"text-align: right; direction: rtl; float: right; clear: both;\">\n",
    "    המודול <code>turtle</code> הוא דרך פופולרית ללמד ילדים תכנות באמצעים גרפיים.<br>\n",
    "    תכנות ב־turtle הוא מעין משחק: ישנו צב שהולך במרחב, ומשאיר צבע בכל מקום שאליו הוא מגיע.<br>\n",
    "    אפשר להורות לצב בכמה מעלות להסתובב לכל כיוון, ולאיזה מרחק ללכת בכיוון שאליו הוא מופנה.<br>\n",
    "    כך, בסוף מסלול הטיול של הצב, מתקבל ציור מלא חן.<br>\n",
    "    הרעיון נוצר כחלק משפת התכנות <em>Logo</em> בשנת 1967.\n",
    "</p>"
   ]
  },
  {
   "cell_type": "markdown",
   "metadata": {},
   "source": [
    "<p style=\"text-align: right; direction: rtl; float: right; clear: both;\">\n",
    "    נראה דוגמה לתוצר של ריצת תוכנית שכזו, שבה אנחנו משרטטים 100 ריבועים בהיסט של מעלה אחת בכל פעם.<br>\n",
    "    אנחנו ממליצים לשחק עם המודול קצת (זה כיף!) ולראות אם אתם מצליחים לצייר כוכב, לדוגמה :)\n",
    "</p>"
   ]
  },
  {
   "cell_type": "code",
   "execution_count": null,
   "metadata": {
    "scrolled": true
   },
   "outputs": [],
   "source": [
    "import turtle\n",
    "\n",
    "turtle.speed(10)\n",
    "\n",
    "for i in range(10):\n",
    "    turtle.forward(50 + i)\n",
    "    turtle.right(91)\n",
    "\n",
    "turtle.done()"
   ]
  },
  {
   "cell_type": "markdown",
   "metadata": {},
   "source": [
    "<div class=\"align-center\" style=\"display: flex; text-align: right; direction: rtl;\">\n",
    "    <div style=\"display: flex; width: 10%; float: right; \">\n",
    "        <img src=\"images/warning.png\" style=\"height: 50px !important;\" alt=\"אזהרה!\"> \n",
    "    </div>\n",
    "    <div style=\"width: 90%\">\n",
    "        <p style=\"text-align: right; direction: rtl;\">\n",
    "            הרצת קוד של <code>turtle</code> תפתח לכם חלון חדש בו יצויר פלט התוכנית.<br>\n",
    "            כדי להמשיך להריץ את התאים במחברת, סגרו את החלון.\n",
    "        </p>\n",
    "    </div>\n",
    "</div>"
   ]
  },
  {
   "cell_type": "markdown",
   "metadata": {},
   "source": [
    "<p style=\"text-align: right; direction: rtl; float: right; clear: both;\">\n",
    "    כדי לשנות את השם שבו אנחנו מתייחסים למודול, ניעזר במילת המפתח <code>as</code>.<br>\n",
    "    לדוגמה:\n",
    "</p>"
   ]
  },
  {
   "cell_type": "code",
   "execution_count": null,
   "metadata": {
    "scrolled": true
   },
   "outputs": [],
   "source": [
    "import turtle as kipik\n",
    "\n",
    "kipik.speed(100)  # קיפיק מהיר הרבה יותר מצב רגיל\n",
    "\n",
    "for i in range(400):\n",
    "    kipik.forward(50 + i)\n",
    "    kipik.right(91)\n",
    "\n",
    "kipik.done()"
   ]
  },
  {
   "cell_type": "markdown",
   "metadata": {},
   "source": [
    "<p style=\"text-align: right; direction: rtl; float: right; clear: both;\">\n",
    "    כך אפשר לקצר את שם המודול שאנחנו מייבאים, ולהימנע מסרבול מיותר.<br>\n",
    "    למרות זאת, יבוא מודול תחת שם אחר נחשב פרקטיקה לא מנומסת, שעלולה לבלבל קוראים שבקיאים בשמות המודולים הקיימים.\n",
    "</p>"
   ]
  },
  {
   "cell_type": "markdown",
   "metadata": {},
   "source": [
    "<p style=\"text-align: right; direction: rtl; float: right; clear: both;\">\n",
    "    ישנם שני מקרים יוצאי דופן, שבהם השימוש ב־<code>as</code> נחשב רצוי:\n",
    "</p>\n",
    "\n",
    "<ol style=\"text-align: right; direction: rtl; float: right; clear: both;\">\n",
    "    <li>כאשר מבקשים מאיתנו להשתמש ב־<code>as</code> במסמכי התיעוד של המודול.</li>\n",
    "    <li>כאשר אנחנו רוצים להתנסות בדברים ולחסוך זמן, נקצר את השמות של המודולים, הפונקציות או הקבועים שאותם אנחנו מייבאים.</li>\n",
    "</ol>"
   ]
  },
  {
   "cell_type": "markdown",
   "metadata": {},
   "source": [
    "### <span style=\"text-align: right; direction: rtl; float: right; clear: both;\">נימוסים והליכות<span>"
   ]
  },
  {
   "cell_type": "markdown",
   "metadata": {},
   "source": [
    "<p style=\"text-align: right; direction: rtl; float: right; clear: both;\">\n",
    "    לשימוש במודולים יש כללי סגנון שמוסכמים על רוב המתכנתים.<br>\n",
    "    הם מופיעים במסמך בשם <a href=\"https://www.python.org/dev/peps/pep-0008/#imports\">PEP8</a>, שמטרתו להגדיר איך נראה קוד פייתון המסוגנן כראוי.<br>\n",
    "    הנה כמה כללים שראוי שתעקבו אחריהם:\n",
    "</p>"
   ]
  },
  {
   "cell_type": "markdown",
   "metadata": {},
   "source": [
    "<ul style=\"text-align: right; direction: rtl; float: right; clear: both;\">\n",
    "    <li>יבוא המודולים תמיד יתבצע בראש הקוד, לפני כל דבר אחר.</li>\n",
    "    <li>כאשר מייבאים יותר ממודול אחד, סדר היבוא צריך להיות מילוני – לפי שם המודול שיובא.</li>\n",
    "    <li>טכנית, אפשר לייבא יותר ממודול אחד בשורה, אם נפריד את שמות המודולים בפסיק. מעשית זה לא מנומס.</li>\n",
    "    <li>כאשר משתמשים ב־<code>from</code> ליבוא של יותר משם אחד – השמות צריכים להיות מסודרים בסדר מילוני.</li>\n",
    "    <li>יש להימנע משימוש ביבוא בעזרת כוכבית.</li>\n",
    "</ul>"
   ]
  },
  {
   "cell_type": "markdown",
   "metadata": {},
   "source": [
    "### <span style=\"text-align: right; direction: rtl; float: right; clear: both;\">דוגמאות נוספות<span>"
   ]
  },
  {
   "cell_type": "markdown",
   "metadata": {},
   "source": [
    "<p style=\"text-align: right; direction: rtl; float: right; clear: both;\">\n",
    "    מה התאריך היום?\n",
    "</p>"
   ]
  },
  {
   "cell_type": "code",
   "execution_count": 3,
   "metadata": {},
   "outputs": [
    {
     "name": "stdout",
     "output_type": "stream",
     "text": [
      "What is the time now?\n",
      "2022-01-25 18:05:54.339695\n"
     ]
    }
   ],
   "source": [
    "import datetime\n",
    "print(\"What is the time now?\")\n",
    "print(datetime.datetime.now())"
   ]
  },
  {
   "cell_type": "markdown",
   "metadata": {},
   "source": [
    "<p style=\"text-align: right; direction: rtl; float: right; clear: both;\">\n",
    "    נשתמש במודול <code>calendar</code> כדי להדפיס את לוח השנה של החודש הנוכחי:\n",
    "</p>"
   ]
  },
  {
   "cell_type": "code",
   "execution_count": 11,
   "metadata": {},
   "outputs": [
    {
     "name": "stdout",
     "output_type": "stream",
     "text": [
      "   December 2021\n",
      "Mo Tu We Th Fr Sa Su\n",
      "       1  2  3  4  5\n",
      " 6  7  8  9 10 11 12\n",
      "13 14 15 16 17 18 19\n",
      "20 21 22 23 24 25 26\n",
      "27 28 29 30 31\n"
     ]
    }
   ],
   "source": [
    "from calendar import prmonth as print_calendar  # לא מנומס, אבל דוגמה טובה\n",
    "import datetime\n",
    "\n",
    "current_date = datetime.datetime.now()\n",
    "print_calendar(current_date.year, current_date.month)"
   ]
  },
  {
   "cell_type": "markdown",
   "metadata": {},
   "source": [
    "## <span style=\"align: right; direction: rtl; float: right; clear: both;\">סיכום</span>"
   ]
  },
  {
   "cell_type": "markdown",
   "metadata": {},
   "source": [
    "<ul style=\"text-align: right; direction: rtl; float: right; clear: both;\">\n",
    "    <li>מודולים הם חלקי תוכנה שמטרתם לפתור בעיה מעולם תוכן מסוים.</li>\n",
    "    <li>אפשר לייבא מודולים ולהשתמש במה שהם מציעים כדי להשיג את מטרותינו במהירות ובקלות.</li>\n",
    "    <li>המודולים שמגיעים עם פייתון מתוחזקים היטב, ויחסכו לנו באגים והתעסקות עם מקרי קצה.</li>\n",
    "    <li>לפני שניגש לפתור בעיה מורכבת, ננסה למצוא בתיעוד של פייתון פתרון בדמות מודול קיים.</li>\n",
    "</ul>"
   ]
  },
  {
   "cell_type": "markdown",
   "metadata": {},
   "source": [
    "## <span style=\"align: right; direction: rtl; float: right; clear: both;\">מונחים</span>"
   ]
  },
  {
   "cell_type": "markdown",
   "metadata": {},
   "source": [
    "<dl style=\"text-align: right; direction: rtl; float: right; clear: both;\">\n",
    "<dt>מודול</dt><dd>יחידה עצמאית של קוד המיועדת לטיפול במטרה מסוימת, ושקוד חיצוני יכול להשתמש בה.<br>בשפות תכנות אחרות מוכר גם כ<dfn>ספרייה</dfn>.</dd>\n",
    "<dt>יבוא</dt><dd>הצהרה בעזרת <code>import</code> על כך שאנחנו הולכים להשתמש במודול מסוים בקוד שלנו.</dd>\n",
    "<dt>PEP8</dt><dd>מסמך תקינה המתאר לפרטים מהי הדרך הנכונה לסגנן קוד פייתון.</dd>\n",
    "</dl>"
   ]
  },
  {
   "cell_type": "markdown",
   "metadata": {},
   "source": [
    "## <span style=\"text-align: right; direction: rtl; float: right; clear: both;\">תרגילים<span>"
   ]
  },
  {
   "cell_type": "markdown",
   "metadata": {},
   "source": [
    "<p style=\"text-align: right; direction: rtl; float: right; clear: both;\">\n",
    "    בתרגילים הבאים השתמשו באינטרנט כדי למצוא מודולים ופונקציות שיסייעו לכם לפתור את התרגיל.<br>\n",
    "    נסו להימנע מחיפוש ומקריאה של פתרונות לתרגיל המסוים המופיע במחברת (כמו חיפושים הכוללים \"חפיסת קלפים\").\n",
    "</p>"
   ]
  },
  {
   "cell_type": "markdown",
   "metadata": {},
   "source": [
    "### <span style=\"text-align: right; direction: rtl; float: right; clear: both;\">זו הדרך<span>"
   ]
  },
  {
   "cell_type": "markdown",
   "metadata": {},
   "source": [
    "<p style=\"text-align: right; direction: rtl; float: right; clear: both;\">\n",
    "    כתבו פונקציה שמקבלת נתיב לתיקייה, ומחזירה את רשימת כל הקבצים שמתחילים ברצף האותיות \"<i>deep</i>\" באותה תיקייה.<br>\n",
    "    בדקו שהפעלת הפונקציה על התיקייה <i>images</i> מחזירה שני קבצים.\n",
    "</p>"
   ]
  },
  {
   "cell_type": "code",
   "execution_count": 48,
   "metadata": {},
   "outputs": [
    {
     "name": "stdout",
     "output_type": "stream",
     "text": [
      "the relevant files are here listed: ['exercise.svg', 'logo.jpg', 'recall.svg', 'silly_generator1.png', 'tip.png', 'warning.png']\n"
     ]
    }
   ],
   "source": [
    "path = 'C:\\\\Users\\\\Raffaella Bodini\\\\Desktop\\\\Notebook_Git\\\\pfc-week05-raffaellab\\\\images'\n",
    "\n",
    "def extract_dir_files(path):\n",
    "    import os\n",
    "    files_in_folder= os.listdir(path)\n",
    "    relevant_files=[]\n",
    "    for file_name in files_in_folder:\n",
    "        if not file_name.startswith('deep'):\n",
    "            relevant_files.append(file_name)\n",
    "    return(relevant_files)\n",
    "\n",
    "relevant_files=extract_dir_files(path)\n",
    "print(f\"the relevant files are here listed: {relevant_files}\")"
   ]
  },
  {
   "cell_type": "markdown",
   "metadata": {},
   "source": [
    "### <span style=\"text-align: right; direction: rtl; float: right; clear: both;\">משחק קלפים משונה<span>"
   ]
  },
  {
   "cell_type": "markdown",
   "metadata": {},
   "source": [
    "<p style=\"text-align: right; direction: rtl; float: right; clear: both;\">\n",
    "    בחפיסת קלפים רגילה, שבה 52 קלפים, יש לכל קלף שתי תכונות:\n",
    "</p>"
   ]
  },
  {
   "cell_type": "markdown",
   "metadata": {},
   "source": [
    "<ol style=\"text-align: right; direction: rtl; float: right; clear: both;\">\n",
    "    <li>\n",
    "        <strong>ערך</strong>: מספר שבין 1 ל־13.\n",
    "    </li>\n",
    "    <li>\n",
    "        <strong>צורה</strong>: תלתן (Club), יהלום (Diamond), לב (Heart) או עלה (Spade). \n",
    "    </li>\n",
    "</ol>"
   ]
  },
  {
   "cell_type": "markdown",
   "metadata": {},
   "source": [
    "<p style=\"text-align: right; direction: rtl; float: right; clear: both;\">\n",
    "    כל צירוף של ערך וצורה מופיע בחפיסה בדיוק פעם אחת.\n",
    "</p>"
   ]
  },
  {
   "cell_type": "markdown",
   "metadata": {},
   "source": [
    "<ol style=\"text-align: right; direction: rtl; float: right; clear: both;\">\n",
    "    <li>צרו חפיסת קלפים מלאה.</li>\n",
    "    <li>טרפו את הקלפים.</li>\n",
    "    <li>חלקו אותם בין 4 שחקנים.</li>\n",
    "    <li>הדפיסו לאיזה שחקן סכום הקלפים הגבוה ביותר.</li>\n",
    "</ol>"
   ]
  },
  {
   "cell_type": "code",
   "execution_count": 44,
   "metadata": {},
   "outputs": [
    {
     "name": "stdout",
     "output_type": "stream",
     "text": [
      "player 1 score 83\n",
      "player 2 score 72\n",
      "player 3 score 90\n",
      "player 4 score 54\n",
      "And the winner is player  3 with a score of  90\n"
     ]
    }
   ],
   "source": [
    "import random \n",
    "import os\n",
    "\n",
    "def create_deck_of_cards():\n",
    "    cards=range(1,13)\n",
    "    symbols=['♡','♢','♤', '♧']\n",
    "    deck_of_card=[]\n",
    "    for i in symbols:\n",
    "        temp_list=[i]*13\n",
    "        temp_zip=list(zip(cards,temp_list))\n",
    "        deck_of_card=deck_of_card+temp_zip\n",
    "    return deck_of_card\n",
    "\n",
    "def mix_deck_of_card(deck_of_card):\n",
    "    mixed_card=deck_of_card.copy()\n",
    "    random.shuffle(mixed_card)\n",
    "    return mixed_card\n",
    "\n",
    "def split_deck_of_card(mixed_card):\n",
    "    players_cards={}\n",
    "    players_cards['player1']=mixed_card[0:12]\n",
    "    players_cards['player2']=mixed_card[13:25]\n",
    "    players_cards['player3']=mixed_card[25:38]\n",
    "    players_cards['player4']=mixed_card[39:52]\n",
    "    return players_cards\n",
    "\n",
    "def sum_total_score(players_cards):\n",
    "    total_scores_players = []\n",
    "    for player in players_cards:\n",
    "        current_cards= players_cards.get(player)\n",
    "        total_score=0\n",
    "        for card, sign in current_cards:\n",
    "            total_score=total_score+card\n",
    "        total_scores_players.append(total_score)\n",
    "    current_best_score=0\n",
    "    for player, score in enumerate(total_scores_players, 1):\n",
    "        print(\"player\", player, \"score\" , score)\n",
    "        if current_best_score<score:\n",
    "            current_best_score=score\n",
    "            current_winner=player\n",
    "    print('And the winner is player ',current_winner, \"with a score of \", current_best_score)\n",
    "        \n",
    "\n",
    "deck_of_card=create_deck_of_cards()\n",
    "mixed_card=mix_deck_of_card(deck_of_card)\n",
    "players_cards=split_deck_of_card(mixed_card)\n",
    "sum_total_score(players_cards)"
   ]
  },
  {
   "cell_type": "markdown",
   "metadata": {},
   "source": [
    "### <span style=\"text-align: right; direction: ltr; float: right; clear: both;\">It's the final?<span>"
   ]
  },
  {
   "cell_type": "markdown",
   "metadata": {},
   "source": [
    "<p style=\"text-align: right; direction: rtl; float: right; clear: both;\">\n",
    "    כתבו פונקציה שמקבלת תאריך עתידי בתצורה YYYY-MM-DD, ומדפיסה את מספר הימים שנשארו עד שנגיע לתאריך המיוחל.<br>\n",
    "    לדוגמה, אם התאריך היום הוא 2020-05-04 וקיבלנו כקלט 2020-05-25, הפונקציה תחזיר <samp>21</samp>.\n",
    "</p>"
   ]
  },
  {
   "cell_type": "code",
   "execution_count": 47,
   "metadata": {},
   "outputs": [
    {
     "name": "stdout",
     "output_type": "stream",
     "text": [
      "31\n"
     ]
    }
   ],
   "source": [
    "enumerate"
   ]
  },
  {
   "cell_type": "markdown",
   "metadata": {},
   "source": [
    "### <span style=\"text-align: right; direction: rtl; float: right; clear: both;\">אין לי וִנִגְרֶט<span>"
   ]
  },
  {
   "cell_type": "markdown",
   "metadata": {},
   "source": [
    "<p style=\"text-align: right; direction: rtl; float: right; clear: both;\">\n",
    "    כתבו תוכנה שמקבלת כקלט מהמשתמש שני תאריכים בתצורה: YYYY-MM-DD.<br>\n",
    "    התוכנה תגריל תאריך חדש שנמצא בין שני התאריכים שהמשתמש הזין כקלט.<br>\n",
    "    לדוגמה, עבור הקלטים 1912-06-23 ו־1954-06-07, פלט אפשרי הוא <samp>1939-09-03</samp>.<br>\n",
    "    כיוון שאני הולך למכולת רק בימי שני ואני צרכן כבד של רוטב ויניגרט, אם התאריך נופל על יום שני, הדפיסו: \"אין לי ויניגרט!\"<br>\n",
    "    רמז: <span style=\"background: black;\">קראו על EPOCH</span>.\n",
    "</p>"
   ]
  },
  {
   "cell_type": "code",
   "execution_count": 64,
   "metadata": {},
   "outputs": [],
   "source": [
    "import datetime\n",
    "date1=datetime.date(1954, 6, 7)\n",
    "date2=datetime.date(1912, 6, 23)\n",
    "middle = (date1 - date2)/2\n",
    "halfway = date2 - middle\n",
    "\n",
    "if halfway.weekday() == 0:\n",
    "    print ('there is no vinegrate')\n",
    "    \n"
   ]
  }
 ],
 "metadata": {
  "kernelspec": {
   "display_name": "Python 3",
   "language": "python",
   "name": "python3"
  },
  "language_info": {
   "codemirror_mode": {
    "name": "ipython",
    "version": 3
   },
   "file_extension": ".py",
   "mimetype": "text/x-python",
   "name": "python",
   "nbconvert_exporter": "python",
   "pygments_lexer": "ipython3",
   "version": "3.8.5"
  }
 },
 "nbformat": 4,
 "nbformat_minor": 2
}
